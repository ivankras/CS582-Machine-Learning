{
 "cells": [
  {
   "cell_type": "code",
   "execution_count": null,
   "source": [
    "import pandas as pd\n",
    "import numpy as np\n",
    "\n",
    "pd.set_option('display.max_rows', None)     #Show all lines\n",
    "pd.set_option('display.max_columns', None)  #Show all columns"
   ],
   "outputs": [],
   "metadata": {}
  },
  {
   "cell_type": "markdown",
   "source": [
    "## IMDb Movies - EDA"
   ],
   "metadata": {}
  },
  {
   "cell_type": "code",
   "execution_count": null,
   "source": [
    "imdb_movies = pd.read_csv('IMDb movies.csv')"
   ],
   "outputs": [],
   "metadata": {}
  },
  {
   "cell_type": "code",
   "execution_count": null,
   "source": [
    "imdb_movies.columns"
   ],
   "outputs": [],
   "metadata": {}
  },
  {
   "cell_type": "code",
   "execution_count": null,
   "source": [
    "imdb_movies.head()"
   ],
   "outputs": [],
   "metadata": {}
  },
  {
   "cell_type": "markdown",
   "source": [
    "### Columns with null values"
   ],
   "metadata": {}
  },
  {
   "cell_type": "code",
   "execution_count": null,
   "source": [
    "# Get names of columns with missing values\n",
    "cols_with_missing = [col for col in imdb_movies.columns if imdb_movies[col].isnull().any()]\n",
    "print(cols_with_missing) # result: ['arrival_delay_in_minutes']"
   ],
   "outputs": [],
   "metadata": {}
  },
  {
   "cell_type": "code",
   "execution_count": null,
   "source": [
    "print([len(imdb_movies[col][imdb_movies[col].isnull()]) for col in cols_with_missing]) # how many values are missing\n",
    "print([len(imdb_movies[col]) for col in cols_with_missing]) # how many values are missing\n",
    "# print(len(imdb_movies['country'][imdb_movies['country'].isnull()])) # how many values are missing"
   ],
   "outputs": [],
   "metadata": {}
  },
  {
   "cell_type": "code",
   "execution_count": null,
   "source": [
    "imdb_movies['reviews_from_critics'][imdb_movies['reviews_from_critics'].notnull()].max()"
   ],
   "outputs": [],
   "metadata": {}
  },
  {
   "cell_type": "markdown",
   "source": [
    "### Columns with categorical values"
   ],
   "metadata": {}
  },
  {
   "cell_type": "code",
   "execution_count": null,
   "source": [
    "categorical_columns = imdb_movies.select_dtypes(include=['object'])\n",
    "categorical_columns.head()"
   ],
   "outputs": [],
   "metadata": {}
  },
  {
   "cell_type": "code",
   "execution_count": null,
   "source": [
    "different_values = categorical_columns.nunique(axis=0)\n",
    "print(different_values)"
   ],
   "outputs": [],
   "metadata": {}
  },
  {
   "cell_type": "markdown",
   "source": [
    "### Looking for strong correlations"
   ],
   "metadata": {}
  },
  {
   "cell_type": "code",
   "execution_count": null,
   "source": [
    "# 1 means same signal; 0 means no correlation at all\n",
    "corr_table = imdb_movies.corr(method='pearson').abs()\n",
    "\n",
    "# Get the highest values != 1\n",
    "corr_coef = corr_table.unstack()\n",
    "sorted_coef = corr_coef[corr_coef < 1].sort_values(kind='quicksort', ascending=False)\n",
    "print(sorted_coef)"
   ],
   "outputs": [],
   "metadata": {}
  },
  {
   "cell_type": "code",
   "execution_count": null,
   "source": [
    "import seaborn as sns\n",
    "import numpy as np\n",
    "X_plot = imdb_movies[\n",
    "    ['votes', 'reviews_from_users', 'avg_vote',\n",
    "    'reviews_from_critics']\n",
    "]\n",
    "X_plot['y'] = np.random.choice([1., 0.], size=len(X_plot))\n",
    "sns.pairplot(X_plot, hue='y')"
   ],
   "outputs": [],
   "metadata": {}
  }
 ],
 "metadata": {
  "orig_nbformat": 4,
  "language_info": {
   "name": "python",
   "version": "3.8.10",
   "mimetype": "text/x-python",
   "codemirror_mode": {
    "name": "ipython",
    "version": 3
   },
   "pygments_lexer": "ipython3",
   "nbconvert_exporter": "python",
   "file_extension": ".py"
  },
  "kernelspec": {
   "name": "python3",
   "display_name": "Python 3.8.10 64-bit"
  },
  "interpreter": {
   "hash": "916dbcbb3f70747c44a77c7bcd40155683ae19c65e1c03b4aa3499c5328201f1"
  }
 },
 "nbformat": 4,
 "nbformat_minor": 2
}