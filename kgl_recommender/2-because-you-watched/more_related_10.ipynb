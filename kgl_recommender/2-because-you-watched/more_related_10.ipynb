{
 "cells": [
  {
   "cell_type": "code",
   "execution_count": 16,
   "source": [
    "import pandas as pd\n",
    "from prepare_data import get_10_related_movies\n",
    "\n",
    "# movies = pd.read_csv('../IMDb movies.csv')\n",
    "# X = movies.drop(\n",
    "#     [\n",
    "#         'title',\n",
    "#         'date_published',\n",
    "#         'director',\n",
    "#         'writer',\n",
    "#         'actors',\n",
    "#         'usa_gross_income',\n",
    "#         'worlwide_gross_income',\n",
    "#         'budget',\n",
    "#         'metascore'\n",
    "#     ],\n",
    "#     axis=1\n",
    "# )\n",
    "# X['year'] = X['year'].apply(lambda x: int(x.split(' ')[-1]) if not isinstance(x, int) else x)\n",
    "\n",
    "# old_movies = X[X['year'] < 1960]\n",
    "# print(len(old_movies))\n",
    "# print(old_movies.isnull().values.ravel().sum())"
   ],
   "outputs": [
    {
     "output_type": "stream",
     "name": "stdout",
     "text": [
      "10625\n",
      "1656\n"
     ]
    }
   ],
   "metadata": {}
  },
  {
   "cell_type": "code",
   "execution_count": null,
   "source": [
    "# get_10_related_movies('tt0190641') # Pokemon\n",
    "# get_10_related_movies('tt0035665') # Batman\n",
    "get_10_related_movies('tt0848228') # The Avengers"
   ],
   "outputs": [],
   "metadata": {}
  }
 ],
 "metadata": {
  "orig_nbformat": 4,
  "language_info": {
   "name": "python",
   "version": "3.8.10",
   "mimetype": "text/x-python",
   "codemirror_mode": {
    "name": "ipython",
    "version": 3
   },
   "pygments_lexer": "ipython3",
   "nbconvert_exporter": "python",
   "file_extension": ".py"
  },
  "kernelspec": {
   "name": "python3",
   "display_name": "Python 3.8.10 64-bit"
  },
  "interpreter": {
   "hash": "916dbcbb3f70747c44a77c7bcd40155683ae19c65e1c03b4aa3499c5328201f1"
  }
 },
 "nbformat": 4,
 "nbformat_minor": 2
}